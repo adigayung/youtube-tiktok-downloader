{
  "nbformat": 4,
  "nbformat_minor": 0,
  "metadata": {
    "colab": {
      "provenance": []
    },
    "kernelspec": {
      "name": "python3",
      "display_name": "Python 3"
    },
    "language_info": {
      "name": "python"
    }
  },
  "cells": [
    {
      "cell_type": "code",
      "execution_count": null,
      "metadata": {
        "id": "UxG_w2NHJQOI"
      },
      "outputs": [],
      "source": [
        "!git clone https://github.com/adigayung/youtube-tiktok-downloader\n",
        "%cd youtube-tiktok-downloader\n",
        "!pip install -r requirements.txt"
      ]
    },
    {
      "cell_type": "code",
      "source": [
        "!python3 app.py --NGROK_AUTH_TOKEN=api_token_ngrok_put_here"
      ],
      "metadata": {
        "id": "Sjej7pAJJX5g"
      },
      "execution_count": null,
      "outputs": []
    }
  ]
}